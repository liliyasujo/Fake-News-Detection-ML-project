{
 "cells": [
  {
   "cell_type": "code",
   "execution_count": 1,
   "metadata": {},
   "outputs": [
    {
     "name": "stdout",
     "output_type": "stream",
     "text": [
      "0       Daniel Greenfield, a Shillman Journalism Fello...\n",
      "1       Google Pinterest Digg Linkedin Reddit Stumbleu...\n",
      "2       U.S. Secretary of State John F. Kerry said Mon...\n",
      "3       — Kaydee King (@KaydeeKing) November 9, 2016 T...\n",
      "4       It's primary day in New York and front-runners...\n",
      "                              ...                        \n",
      "6330    The State Department told the Republican Natio...\n",
      "6331    The ‘P’ in PBS Should Stand for ‘Plutocratic’ ...\n",
      "6332     Anti-Trump Protesters Are Tools of the Oligar...\n",
      "6333    ADDIS ABABA, Ethiopia —President Obama convene...\n",
      "6334    Jeb Bush Is Suddenly Attacking Trump. Here's W...\n",
      "Name: text, Length: 6335, dtype: object\n",
      "0       FAKE\n",
      "1       FAKE\n",
      "2       REAL\n",
      "3       FAKE\n",
      "4       REAL\n",
      "        ... \n",
      "6330    REAL\n",
      "6331    FAKE\n",
      "6332    FAKE\n",
      "6333    REAL\n",
      "6334    REAL\n",
      "Name: label, Length: 6335, dtype: object\n"
     ]
    }
   ],
   "source": [
    "## import necessary library\n",
    "import pandas as pd\n",
    "from sklearn.model_selection import train_test_split\n",
    "from sklearn.feature_extraction.text import TfidfVectorizer\n",
    "from sklearn.linear_model import PassiveAggressiveClassifier\n",
    "from sklearn.metrics import accuracy_score, confusion_matrix\n",
    "\n",
    "## Read the dataset, convert it into dataframe\n",
    "dataframe = pd.read_csv('news.csv')\n",
    "dataframe.head()\n",
    "\n",
    "## Split data into X & Y\n",
    "x = dataframe['text']\n",
    "y = dataframe['label']\n",
    "\n",
    "print(x)\n",
    "print(y)"
   ]
  },
  {
   "cell_type": "code",
   "execution_count": 2,
   "metadata": {},
   "outputs": [
    {
     "name": "stdout",
     "output_type": "stream",
     "text": [
      "Accuracy: 93.45%\n",
      "[[571  44]\n",
      " [ 39 613]]\n"
     ]
    }
   ],
   "source": [
    "\n",
    "x_train,x_test,y_train,y_test = train_test_split(x,y,test_size=0.2,random_state=0)\n",
    "\n",
    "## Now we need to fit the TFIDF Vectorizer.\n",
    "# max_df = 0.50 means \"ignore terms that appear in more than 50% of the documents\".\n",
    "# max_df = 25 means \"ignore terms that appear in more than 25 documents\".\n",
    "\n",
    "tfvect = TfidfVectorizer(stop_words='english',max_df=0.7)\n",
    "tfid_x_train = tfvect.fit_transform(x_train)\n",
    "tfid_x_test = tfvect.transform(x_test)\n",
    "\n",
    "## Now let's fit the Machine Learning Model\n",
    "classifier = PassiveAggressiveClassifier(max_iter=50)\n",
    "classifier.fit(tfid_x_train,y_train)\n",
    "\n",
    "## Now let's check model accuracy. Let's fit model on the test data.\n",
    "\n",
    "y_pred = classifier.predict(tfid_x_test)\n",
    "score = accuracy_score(y_test,y_pred)\n",
    "print(f'Accuracy: {round(score*100,2)}%')\n",
    "# Accuracy: 93.69%\n",
    "\n",
    "cf = confusion_matrix(y_test,y_pred, labels=['FAKE','REAL'])\n",
    "print(cf)\n",
    "\n",
    "# [[575  40]\n",
    "# [ 40 612]]"
   ]
  },
  {
   "cell_type": "code",
   "execution_count": 3,
   "metadata": {},
   "outputs": [
    {
     "name": "stdout",
     "output_type": "stream",
     "text": [
      "['FAKE']\n"
     ]
    }
   ],
   "source": [
    "\n",
    "## Let's create function for test the model on the real-time data.\n",
    "def fake_news_det(news):\n",
    "    input_data = [news]\n",
    "    vectorized_input_data = tfvect.transform(input_data)\n",
    "    prediction = classifier.predict(vectorized_input_data)\n",
    "    print(prediction)\n",
    "\n",
    "fake_news_det(\"\"\"Go to Article President Barack Obama has been \n",
    "campaigning hard for the woman who is supposedly going to extend his legacy \n",
    "four more years. The only problem with stumping for Hillary Clinton, however, \n",
    "is sheâ€™s not exactly a candidate easy to get too enthused about.  \"\"\")\n",
    "# ['FAKE']\n",
    "\n",
    "# Let's save the model into pickle file so that we can use it in flask app.\n",
    "import pickle\n",
    "pickle.dump(classifier,open('model.pkl', 'wb'))"
   ]
  },
  {
   "cell_type": "code",
   "execution_count": null,
   "metadata": {},
   "outputs": [],
   "source": []
  }
 ],
 "metadata": {
  "interpreter": {
   "hash": "661e48adcef12077547d4706ba9630b86d89557e8df6506efaeecd6cf2430181"
  },
  "kernelspec": {
   "display_name": "Python 3.9.12 ('base')",
   "language": "python",
   "name": "python3"
  },
  "language_info": {
   "codemirror_mode": {
    "name": "ipython",
    "version": 3
   },
   "file_extension": ".py",
   "mimetype": "text/x-python",
   "name": "python",
   "nbconvert_exporter": "python",
   "pygments_lexer": "ipython3",
   "version": "3.9.12"
  },
  "orig_nbformat": 4
 },
 "nbformat": 4,
 "nbformat_minor": 2
}
